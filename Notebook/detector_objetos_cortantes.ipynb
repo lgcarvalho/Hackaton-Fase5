{
 "cells": [
  {
   "cell_type": "code",
   "execution_count": null,
   "metadata": {},
   "outputs": [],
   "source": [
    "from ultralytics import YOLO\n",
    "from collections import Counter\n",
    "import torch"
   ]
  },
  {
   "cell_type": "code",
   "execution_count": null,
   "metadata": {},
   "outputs": [],
   "source": [
    "# Carrega o modelo treinado.\n",
    "model = YOLO(\"./runs/detect/train/weights/best.pt\")"
   ]
  },
  {
   "cell_type": "code",
   "execution_count": null,
   "metadata": {},
   "outputs": [],
   "source": [
    "# Valida se a GPU está disponível.\n",
    "if torch.cuda.is_available():\n",
    "    device = 0\n",
    "else:\n",
    "    device = 'cpu'"
   ]
  },
  {
   "cell_type": "code",
   "execution_count": null,
   "metadata": {},
   "outputs": [],
   "source": [
    "# Define o caminho do vídeo.\n",
    "filepath = \"../Video/video2.mp4\""
   ]
  },
  {
   "cell_type": "code",
   "execution_count": null,
   "metadata": {},
   "outputs": [],
   "source": [
    "# Executa a detecção de objetos no vídeo.\n",
    "results = model(filepath, save=True, device=device, half=True, augment=True, stream=True, conf=0.5)"
   ]
  },
  {
   "cell_type": "code",
   "execution_count": null,
   "metadata": {},
   "outputs": [],
   "source": [
    "# Conta o número de detecções por classe.\n",
    "detections_per_class = Counter()\n",
    "\n",
    "for result in results:\n",
    "    class_ids = result.boxes.cls.tolist()\n",
    "    detections_per_class.update(class_ids)\n",
    "\n",
    "print(\"Detecções por classe:\", dict(detections_per_class))"
   ]
  }
 ],
 "metadata": {
  "kernelspec": {
   "display_name": "Python 3",
   "language": "python",
   "name": "python3"
  },
  "language_info": {
   "codemirror_mode": {
    "name": "ipython",
    "version": 3
   },
   "file_extension": ".py",
   "mimetype": "text/x-python",
   "name": "python",
   "nbconvert_exporter": "python",
   "pygments_lexer": "ipython3",
   "version": "3.9.0"
  }
 },
 "nbformat": 4,
 "nbformat_minor": 2
}
