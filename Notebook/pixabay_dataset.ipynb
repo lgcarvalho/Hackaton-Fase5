{
 "cells": [
  {
   "cell_type": "code",
   "execution_count": null,
   "metadata": {},
   "outputs": [],
   "source": [
    "import requests\n",
    "import os"
   ]
  },
  {
   "cell_type": "code",
   "execution_count": null,
   "metadata": {},
   "outputs": [],
   "source": [
    "# API KEY do PixaBay\n",
    "API_KEY = \"\""
   ]
  },
  {
   "cell_type": "code",
   "execution_count": null,
   "metadata": {},
   "outputs": [],
   "source": [
    "# Função para baixar imagens do Pixabay\n",
    "# query: termo de pesquisa\n",
    "# num_images: número de imagens a serem baixadas\n",
    "# output_folder: pasta de saída\n",
    "def download_images_from_pixabay(query, num_images, output_folder):\n",
    "    URL = \"https://pixabay.com/api/\"\n",
    "    \n",
    "    params = {\n",
    "        \"key\": API_KEY,\n",
    "        \"q\": query,\n",
    "        \"lang\": \"pt\",\n",
    "        \"page\": 1,\n",
    "        \"image_type\": \"photo\",\n",
    "        \"per_page\": min(num_images, 200),\n",
    "        \"safesearch\": \"true\"\n",
    "    }\n",
    "    \n",
    "    response = requests.get(URL, params=params)\n",
    "    data = response.json()\n",
    "    \n",
    "    if response.status_code != 200 or \"hits\" not in data:\n",
    "        print(\"Erro na API:\", data.get(\"message\", \"Erro desconhecido\"))\n",
    "        \n",
    "        return\n",
    "    \n",
    "    if not os.path.exists(output_folder):\n",
    "        os.makedirs(output_folder)\n",
    "    \n",
    "    for i, hit in enumerate(data[\"hits\"][:num_images]):\n",
    "        image_url = hit[\"largeImageURL\"]\n",
    "        print(f\"Baixando imagem {i+1}: {image_url}\")\n",
    "        \n",
    "        image_data = requests.get(image_url).content\n",
    "        \n",
    "        with open(os.path.join(output_folder, f\"image_{i+1}.jpg\"), \"wb\") as f:\n",
    "            f.write(image_data)"
   ]
  },
  {
   "cell_type": "code",
   "execution_count": null,
   "metadata": {},
   "outputs": [],
   "source": [
    "download_images_from_pixabay(\"ruler\", num_images=500, output_folder=\"../Images/Pixabay/Regua\")"
   ]
  }
 ],
 "metadata": {
  "kernelspec": {
   "display_name": "Python 3",
   "language": "python",
   "name": "python3"
  },
  "language_info": {
   "codemirror_mode": {
    "name": "ipython",
    "version": 3
   },
   "file_extension": ".py",
   "mimetype": "text/x-python",
   "name": "python",
   "nbconvert_exporter": "python",
   "pygments_lexer": "ipython3",
   "version": "3.9.0"
  }
 },
 "nbformat": 4,
 "nbformat_minor": 2
}
