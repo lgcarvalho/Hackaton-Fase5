{
 "cells": [
  {
   "cell_type": "code",
   "execution_count": null,
   "metadata": {},
   "outputs": [],
   "source": [
    "#!pip install -U albumentations\n",
    "#!pip install -U ultralytics"
   ]
  },
  {
   "cell_type": "code",
   "execution_count": null,
   "metadata": {},
   "outputs": [],
   "source": [
    "from ultralytics import YOLO"
   ]
  },
  {
   "cell_type": "code",
   "execution_count": null,
   "metadata": {},
   "outputs": [],
   "source": [
    "# Carrega o nome das classes\n",
    "with open(r'C:\\YOLO\\classes.txt', 'r') as f:\n",
    "    class_names = f.read().splitlines()\n",
    "    \n",
    "    print(class_names)"
   ]
  },
  {
   "cell_type": "code",
   "execution_count": null,
   "metadata": {},
   "outputs": [],
   "source": [
    "# Cria o data.yaml com as informações do conjunto de dados\n",
    "data_yaml = f\"\"\"\n",
    "path: dataset  # caminho para o conjunto de dados\n",
    "train: images/train  # diretório de imagens de treinamento\n",
    "val: images/test  # diretório de imagens de teste\n",
    "\n",
    "nc: {len(class_names)}  # número de classes\n",
    "names: {class_names}  # nomes das classes\n",
    "\"\"\"\n",
    "\n",
    "with open('./model/data.yaml', 'w') as f:\n",
    "    f.write(data_yaml)"
   ]
  },
  {
   "cell_type": "code",
   "execution_count": null,
   "metadata": {},
   "outputs": [],
   "source": [
    "# Carrega o modelo YOLO\n",
    "model = YOLO(\"./model/yolo11n.pt\")"
   ]
  },
  {
   "cell_type": "code",
   "execution_count": null,
   "metadata": {},
   "outputs": [],
   "source": [
    "# Parâmetros do modelo que serão otimizados no tuning\n",
    "search_space = {\n",
    "    \"lr0\": (1e-5, 1e-1),           # Taxa de aprendizado inicial\n",
    "    \"lrf\": (0.01, 1.0),            # Fator final da taxa de aprendizado\n",
    "    \"momentum\": (0.6, 0.98),       # Fator de momentum do SGD\n",
    "    \"weight_decay\": (0.0, 0.001),    # Regularização L2 para evitar overfitting\n",
    "    \"warmup_epochs\": (0.0, 5.0),     # Número de épocas para warmup\n",
    "    \"warmup_momentum\": (0.0, 0.95),  # Momentum inicial durante o warmup\n",
    "    \"box\": (0.02, 0.2),            # Peso da perda de caixa (bounding box)\n",
    "    \"cls\": (0.2, 4.0),             # Peso da perda de classificação\n",
    "    \"hsv_h\": (0.0, 0.1),           # Alcance de variação de hue (matiz)\n",
    "    \"hsv_s\": (0.0, 0.9),           # Alcance de saturação\n",
    "    \"hsv_v\": (0.0, 0.9),           # Alcance de variação de valor (brilho)\n",
    "    \"degrees\": (0.0, 45.0),        # Rotação máxima em graus para augmentations\n",
    "    \"translate\": (0.0, 0.9),       # Translação máxima como fração do tamanho da imagem\n",
    "    \"scale\": (0.0, 0.9),           # Escala para augmentations\n",
    "    \"shear\": (0.0, 10.0),          # Cisalhamento máximo em graus\n",
    "    \"perspective\": (0.0, 0.001),   # Perspectiva para augmentations\n",
    "    \"flipud\": (0.0, 1.0),          # Probabilidade de flip vertical\n",
    "    \"fliplr\": (0.0, 1.0),          # Probabilidade de flip horizontal\n",
    "    \"mosaic\": (0.0, 1.0),          # Probabilidade de usar mosaic augmentation\n",
    "    \"mixup\": (0.0, 1.0),           # Probabilidade de usar mixup augmentation\n",
    "    \"copy_paste\": (0.0, 1.0)       # Probabilidade de usar copy-paste augmentation\n",
    "}"
   ]
  },
  {
   "cell_type": "code",
   "execution_count": null,
   "metadata": {},
   "outputs": [],
   "source": [
    "# Inicia o tuning\n",
    "model.tune(\n",
    "    data=\"./model/data.yaml\",\n",
    "    epochs=30,\n",
    "    iterations=50,\n",
    "    optimizer=\"SGD\",\n",
    "    batch=50,\n",
    "    space=search_space,\n",
    "    plots=False,\n",
    "    save=False,\n",
    "    val=True,\n",
    "    project='./runs/detect/tuning/SGD',\n",
    "    cos_lr=True,\n",
    "    amp=True,\n",
    "    deterministic=True\n",
    ")"
   ]
  }
 ],
 "metadata": {
  "kernelspec": {
   "display_name": "Python 3",
   "language": "python",
   "name": "python3"
  },
  "language_info": {
   "codemirror_mode": {
    "name": "ipython",
    "version": 3
   },
   "file_extension": ".py",
   "mimetype": "text/x-python",
   "name": "python",
   "nbconvert_exporter": "python",
   "pygments_lexer": "ipython3",
   "version": "3.9.0"
  }
 },
 "nbformat": 4,
 "nbformat_minor": 2
}
