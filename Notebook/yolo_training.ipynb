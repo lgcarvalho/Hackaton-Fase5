{
 "cells": [
  {
   "cell_type": "code",
   "execution_count": null,
   "metadata": {},
   "outputs": [],
   "source": [
    "from ultralytics import YOLO"
   ]
  },
  {
   "cell_type": "code",
   "execution_count": null,
   "metadata": {},
   "outputs": [],
   "source": [
    "# Carrega o nome das classes\n",
    "with open(r'C:\\YOLO\\classes.txt', 'r') as f:\n",
    "    class_names = f.read().splitlines()\n",
    "    \n",
    "    print(class_names)"
   ]
  },
  {
   "cell_type": "code",
   "execution_count": null,
   "metadata": {},
   "outputs": [],
   "source": [
    "# Cria o data.yaml com as informações do conjunto de dados\n",
    "data_yaml = f\"\"\"\n",
    "path: dataset  # caminho para o conjunto de dados\n",
    "train: images/train  # diretório de imagens de treinamento\n",
    "val: images/test  # diretório de imagens de validação\n",
    "\n",
    "nc: {len(class_names)}  # número de classes\n",
    "names: {class_names}  # nomes das classes\n",
    "\"\"\"\n",
    "\n",
    "with open('./model/data.yaml', 'w') as f:\n",
    "    f.write(data_yaml)"
   ]
  },
  {
   "cell_type": "code",
   "execution_count": null,
   "metadata": {},
   "outputs": [],
   "source": [
    "# Carrega o modelo YOLO\n",
    "model = YOLO('yolo11n.pt')"
   ]
  },
  {
   "cell_type": "code",
   "execution_count": null,
   "metadata": {},
   "outputs": [],
   "source": [
    "# Parâmetros de treinamento\n",
    "train_params = {\n",
    "    \"data\": \"./model/data.yaml\",\n",
    "    \"device\": 0,\n",
    "    \"verbose\": False,\n",
    "    \"plots\": True,\n",
    "    \"epochs\": 500,\n",
    "    'patience': 50,\n",
    "    \"batch\": 32,\n",
    "    'amp': True,\n",
    "    'cos_lr': True,\n",
    "    'deterministic': True,\n",
    "    'optimizer': 'auto',\n",
    "}"
   ]
  },
  {
   "cell_type": "code",
   "execution_count": null,
   "metadata": {},
   "outputs": [],
   "source": [
    "# Treina o modelo\n",
    "results = model.train(**train_params)"
   ]
  },
  {
   "cell_type": "code",
   "execution_count": null,
   "metadata": {},
   "outputs": [],
   "source": [
    "# Visualiza os resultados\n",
    "print(results.results_dict)\n",
    "print(results.fitness)"
   ]
  }
 ],
 "metadata": {
  "kernelspec": {
   "display_name": "Python 3",
   "language": "python",
   "name": "python3"
  },
  "language_info": {
   "codemirror_mode": {
    "name": "ipython",
    "version": 3
   },
   "file_extension": ".py",
   "mimetype": "text/x-python",
   "name": "python",
   "nbconvert_exporter": "python",
   "pygments_lexer": "ipython3",
   "version": "3.9.0"
  }
 },
 "nbformat": 4,
 "nbformat_minor": 2
}
