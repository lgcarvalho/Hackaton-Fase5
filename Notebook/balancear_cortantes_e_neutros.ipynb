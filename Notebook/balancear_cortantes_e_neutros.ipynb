{
 "cells": [
  {
   "cell_type": "code",
   "execution_count": null,
   "metadata": {},
   "outputs": [],
   "source": [
    "import os\n",
    "import random\n",
    "import shutil"
   ]
  },
  {
   "cell_type": "code",
   "execution_count": null,
   "metadata": {},
   "outputs": [],
   "source": [
    "# Diretórios de origem e destino dos arquivos\n",
    "objeto_cortante_images_path = r\"C:\\YOLO\\images\"\n",
    "objeto_cortante_labels_path = r\"C:\\YOLO\\labels\"\n",
    "neutro_images_path = r\"C:\\YOLO\\neutro_image\"\n",
    "output_dir = r\"C:\\YOLO\\images_treinamento\""
   ]
  },
  {
   "cell_type": "code",
   "execution_count": null,
   "metadata": {},
   "outputs": [],
   "source": [
    "# Divisão dos dados em treino, validação e teste\n",
    "train_ratio = 0.85\n",
    "val_ratio = 0.0\n",
    "test_ratio = 0.15"
   ]
  },
  {
   "cell_type": "code",
   "execution_count": null,
   "metadata": {},
   "outputs": [],
   "source": [
    "# Função para dividir os arquivos em treino, validação e teste\n",
    "# images_path: diretório das imagens\n",
    "# labels_path: diretório dos labels\n",
    "# output_dir: diretório de saída\n",
    "# train_ratio: proporção de imagens para treino\n",
    "# val_ratio: proporção de imagens para validação\n",
    "# class_name: nome da classe\n",
    "# max_images: número máximo de imagens para processar\n",
    "# has_labels: se os arquivos possuem labels\n",
    "def split_data(images_path, labels_path, output_dir, train_ratio, val_ratio, class_name, max_images=None, has_labels=True): \n",
    "    images = sorted(os.listdir(images_path))\n",
    "    \n",
    "    if has_labels:\n",
    "        labels = sorted(os.listdir(labels_path))\n",
    "\n",
    "        images = [img for img in images if img.replace('.jpg', '.txt') in labels]\n",
    "    \n",
    "    if max_images is not None:\n",
    "        images = images[:max_images]\n",
    "\n",
    "    random.shuffle(images)\n",
    "\n",
    "    total_images = len(images)\n",
    "    train_count = int(total_images * train_ratio)\n",
    "    val_count = int(total_images * val_ratio)\n",
    "\n",
    "    train_images = images[:train_count]\n",
    "    val_images = images[train_count:train_count + val_count]\n",
    "    test_images = images[train_count + val_count:]\n",
    "\n",
    "    def move_files(image_list, subset):\n",
    "        image_subset_dir = os.path.join(output_dir, \"images\", subset)\n",
    "        os.makedirs(image_subset_dir, exist_ok=True)\n",
    "\n",
    "        if has_labels:\n",
    "            label_subset_dir = os.path.join(output_dir, \"labels\", subset)\n",
    "            os.makedirs(label_subset_dir, exist_ok=True)\n",
    "        \n",
    "        for img in image_list:\n",
    "            shutil.copy(os.path.join(images_path, img), os.path.join(image_subset_dir, img))\n",
    "            \n",
    "            if has_labels:\n",
    "                label_file = img.replace('.jpg', '.txt')\n",
    "                shutil.copy(os.path.join(labels_path, label_file), os.path.join(label_subset_dir, label_file))\n",
    "\n",
    "    move_files(train_images, \"train\")\n",
    "    move_files(val_images, \"val\")\n",
    "    move_files(test_images, \"test\")\n",
    "    \n",
    "    print(f\"{class_name} -> Train: {len(train_images)}, Val: {len(val_images)}, Test: {len(test_images)}\")"
   ]
  },
  {
   "cell_type": "code",
   "execution_count": null,
   "metadata": {},
   "outputs": [],
   "source": [
    "# Função para contar a quantidade de arquivos em um diretório\n",
    "# folder_path: diretório\n",
    "# file_extensions: extensões dos arquivos\n",
    "def count_files_in_folder(folder_path, file_extensions=None):\n",
    "    if not os.path.exists(folder_path):\n",
    "        print(f\"Erro: O diretório '{folder_path}' não existe.\")\n",
    "        \n",
    "        return 0\n",
    "    \n",
    "    all_files = os.listdir(folder_path)\n",
    "    \n",
    "    if file_extensions:\n",
    "        all_files = [f for f in all_files if f.lower().endswith(file_extensions)]\n",
    "    \n",
    "    return len(all_files)"
   ]
  },
  {
   "cell_type": "code",
   "execution_count": null,
   "metadata": {},
   "outputs": [],
   "source": [
    "num_images = count_files_in_folder(objeto_cortante_images_path)\n",
    "print(f\"Total de imagens na pasta: {num_images}\")"
   ]
  },
  {
   "cell_type": "code",
   "execution_count": null,
   "metadata": {},
   "outputs": [],
   "source": [
    "split_data(\n",
    "    images_path=objeto_cortante_images_path,\n",
    "    labels_path=objeto_cortante_labels_path,\n",
    "    output_dir=output_dir,\n",
    "    train_ratio=train_ratio,\n",
    "    val_ratio=val_ratio,\n",
    "    class_name=\"Objeto Cortante\",\n",
    "    max_images=100000,\n",
    "    has_labels=True\n",
    ")"
   ]
  },
  {
   "cell_type": "code",
   "execution_count": null,
   "metadata": {},
   "outputs": [],
   "source": [
    "num_images = count_files_in_folder(neutro_images_path)\n",
    "print(f\"Total de imagens na pasta: {num_images}\")"
   ]
  },
  {
   "cell_type": "code",
   "execution_count": null,
   "metadata": {},
   "outputs": [],
   "source": [
    "split_data(\n",
    "    images_path=neutro_images_path,\n",
    "    labels_path=None,\n",
    "    output_dir=output_dir,\n",
    "    train_ratio=train_ratio,\n",
    "    val_ratio=val_ratio,\n",
    "    class_name=\"Neutro\",\n",
    "    max_images=4000,\n",
    "    has_labels=False\n",
    ")"
   ]
  }
 ],
 "metadata": {
  "kernelspec": {
   "display_name": "Python 3",
   "language": "python",
   "name": "python3"
  },
  "language_info": {
   "codemirror_mode": {
    "name": "ipython",
    "version": 3
   },
   "file_extension": ".py",
   "mimetype": "text/x-python",
   "name": "python",
   "nbconvert_exporter": "python",
   "pygments_lexer": "ipython3",
   "version": "3.9.0"
  }
 },
 "nbformat": 4,
 "nbformat_minor": 2
}
