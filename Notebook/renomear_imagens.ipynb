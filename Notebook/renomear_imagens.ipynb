{
 "cells": [
  {
   "cell_type": "code",
   "execution_count": 10,
   "metadata": {},
   "outputs": [],
   "source": [
    "import os"
   ]
  },
  {
   "cell_type": "code",
   "execution_count": null,
   "metadata": {},
   "outputs": [],
   "source": [
    "# Função para renomear imagens em uma pasta\n",
    "# pasta: caminho da pasta onde estão as imagens\n",
    "# prefixo: prefixo a ser adicionado ao nome da imagem\n",
    "def renomear_imagens(pasta, prefixo=\"faca\"):\n",
    "    extensoes_suportadas = (\".jpg\", \".jpeg\", \".png\")\n",
    "\n",
    "    arquivos = [f for f in os.listdir(pasta) if f.lower().endswith(extensoes_suportadas)]\n",
    "    arquivos.sort()\n",
    "\n",
    "    for i, arquivo in enumerate(arquivos, start=1):\n",
    "        _, extensao = os.path.splitext(arquivo)\n",
    "\n",
    "        novo_nome = f\"{prefixo}{i:02d}{extensao}\"\n",
    "\n",
    "        caminho_antigo = os.path.join(pasta, arquivo)\n",
    "        caminho_novo = os.path.join(pasta, novo_nome)\n",
    "\n",
    "        os.rename(caminho_antigo, caminho_novo)\n",
    "        print(f\"Renomeado: {arquivo} -> {novo_nome}\")"
   ]
  },
  {
   "cell_type": "code",
   "execution_count": null,
   "metadata": {},
   "outputs": [],
   "source": [
    "pasta = r\"C:\\YOLO\\dataset\\images\"\n",
    "renomear_imagens(pasta, prefixo=\"neutro_\")"
   ]
  }
 ],
 "metadata": {
  "kernelspec": {
   "display_name": "Python 3",
   "language": "python",
   "name": "python3"
  },
  "language_info": {
   "codemirror_mode": {
    "name": "ipython",
    "version": 3
   },
   "file_extension": ".py",
   "mimetype": "text/x-python",
   "name": "python",
   "nbconvert_exporter": "python",
   "pygments_lexer": "ipython3",
   "version": "3.9.0"
  }
 },
 "nbformat": 4,
 "nbformat_minor": 2
}
