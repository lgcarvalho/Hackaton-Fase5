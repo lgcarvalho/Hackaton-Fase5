{
 "cells": [
  {
   "cell_type": "code",
   "execution_count": null,
   "metadata": {},
   "outputs": [],
   "source": [
    "import os"
   ]
  },
  {
   "cell_type": "code",
   "execution_count": null,
   "metadata": {},
   "outputs": [],
   "source": [
    "# Função para deletar labels que não possuem imagem correspondente\n",
    "# images_folder: pasta com as imagens\n",
    "# labels_folder: pasta com os labels\n",
    "def delete_unmatched_labels(images_folder, labels_folder):\n",
    "    image_files = {os.path.splitext(file)[0] for file in os.listdir(images_folder) if file.lower().endswith(('.png', '.jpg', '.jpeg'))}\n",
    "\n",
    "    label_files = [file for file in os.listdir(labels_folder) if file.lower().endswith('.txt')]\n",
    "\n",
    "    for label_file in label_files:\n",
    "        label_name = os.path.splitext(label_file)[0]\n",
    "        \n",
    "        if label_name not in image_files:\n",
    "            txt_path = os.path.join(labels_folder, label_file)\n",
    "            os.remove(txt_path)\n",
    "            print(f\"Deletado: {txt_path}\")"
   ]
  },
  {
   "cell_type": "code",
   "execution_count": null,
   "metadata": {},
   "outputs": [],
   "source": [
    "# Função para modificar labels de classes diferentes, por exemplo, de 1 para 0\n",
    "# labels_folder: pasta com os labels\n",
    "def modify_and_check_labels(labels_folder):\n",
    "    label_files = [file for file in os.listdir(labels_folder) if file.lower().endswith('.txt')]\n",
    "\n",
    "    for label_file in label_files:\n",
    "        txt_path = os.path.join(labels_folder, label_file)\n",
    "        modified_lines = []\n",
    "        found_other_class = False\n",
    "\n",
    "        with open(txt_path, 'r') as file:\n",
    "            lines = file.readlines()\n",
    "            \n",
    "            for line in lines:\n",
    "                parts = line.strip().split()\n",
    "                \n",
    "                if len(parts) > 0:\n",
    "                    class_id = parts[0]\n",
    "                    \n",
    "                    if class_id != '0':\n",
    "                        found_other_class = True\n",
    "                    parts[0] = '2'\n",
    "\n",
    "                    modified_lines.append(' '.join(parts))\n",
    "\n",
    "        with open(txt_path, 'w') as file:\n",
    "            file.write('\\n'.join(modified_lines) + '\\n')\n",
    "\n",
    "        if found_other_class:\n",
    "            print(f\"Classe diferente encontrada no arquivo: {txt_path}\")"
   ]
  },
  {
   "cell_type": "code",
   "execution_count": null,
   "metadata": {},
   "outputs": [],
   "source": [
    "# Função para renomear imagens e labels\n",
    "# images_folder: pasta com as imagens\n",
    "# labels_folder: pasta com os labels\n",
    "def rename_images_and_labels(images_folder, labels_folder):\n",
    "    renamed_images_folder = os.path.join(images_folder, r\"C:\\YOLO\\tesoura_image_renomeada\")\n",
    "    renamed_labels_folder = os.path.join(labels_folder, r\"C:\\YOLO\\tesoura_label_renomeada\")\n",
    "    os.makedirs(renamed_images_folder, exist_ok=True)\n",
    "    os.makedirs(renamed_labels_folder, exist_ok=True)\n",
    "\n",
    "    image_files = sorted([file for file in os.listdir(images_folder) if file.lower().endswith(('.png', '.jpg', '.jpeg'))])\n",
    "    label_files = sorted([file for file in os.listdir(labels_folder) if file.lower().endswith('.txt')])\n",
    "\n",
    "    if len(image_files) != len(label_files):\n",
    "        print(\"O número de imagens e labels não é o mesmo. Verifique suas pastas.\")\n",
    "        \n",
    "        return\n",
    "\n",
    "    for idx, (image_file, label_file) in enumerate(zip(image_files, label_files), start=1):\n",
    "        new_name = f\"tesoura_{idx:02d}\"\n",
    "\n",
    "        old_image_path = os.path.join(images_folder, image_file)\n",
    "        new_image_path = os.path.join(renamed_images_folder, f\"{new_name}{os.path.splitext(image_file)[1]}\")\n",
    "        os.rename(old_image_path, new_image_path)\n",
    "\n",
    "        old_label_path = os.path.join(labels_folder, label_file)\n",
    "        new_label_path = os.path.join(renamed_labels_folder, f\"{new_name}.txt\")\n",
    "        os.rename(old_label_path, new_label_path)\n",
    "\n",
    "        print(f\"Renomeado e movido: {image_file} -> {new_image_path} e {label_file} -> {new_label_path}\")"
   ]
  },
  {
   "cell_type": "code",
   "execution_count": null,
   "metadata": {},
   "outputs": [],
   "source": [
    "# Função para renomear imagens\n",
    "# images_folder: pasta com as imagens\n",
    "def rename_images(images_folder):\n",
    "    image_files = sorted([file for file in os.listdir(images_folder) if file.lower().endswith(('.png', '.jpg', '.jpeg'))])\n",
    "\n",
    "    for idx, image_file in enumerate(image_files, start=1):\n",
    "        new_name = f\"neutro_{idx:02d}\"\n",
    "\n",
    "        old_image_path = os.path.join(images_folder, image_file)\n",
    "        new_image_path = os.path.join(images_folder, f\"{new_name}{os.path.splitext(image_file)[1]}\")\n",
    "        os.rename(old_image_path, new_image_path)\n",
    "\n",
    "        print(f\"Renomeado: {image_file} -> {new_name}{os.path.splitext(image_file)[1]}\")"
   ]
  },
  {
   "cell_type": "code",
   "execution_count": null,
   "metadata": {},
   "outputs": [],
   "source": [
    "# Função para remover segmentação nos arquivos de anotação (Para os casos em que o dataset possui segmentação e detecção)\n",
    "# pasta_annotacoes: pasta com os arquivos de anotação\n",
    "def remover_segmentacao_em_pasta(pasta_annotacoes):\n",
    "    for nome_arquivo in os.listdir(pasta_annotacoes):\n",
    "        if nome_arquivo.endswith('.txt'):\n",
    "            caminho_arquivo = os.path.join(pasta_annotacoes, nome_arquivo)\n",
    "            \n",
    "            with open(caminho_arquivo, 'r') as arquivo:\n",
    "                linhas = arquivo.readlines()\n",
    "            \n",
    "            linhas_processadas = []\n",
    "            \n",
    "            for linha in linhas:\n",
    "                tokens = linha.strip().split()\n",
    "                \n",
    "                if len(tokens) >= 5:\n",
    "                    dados_deteccao = tokens[:5]\n",
    "                    linhas_processadas.append(' '.join(dados_deteccao))\n",
    "                else:\n",
    "                    linhas_processadas.append(linha.strip())\n",
    "            \n",
    "            with open(caminho_arquivo, 'w') as arquivo:\n",
    "                for linha_processada in linhas_processadas:\n",
    "                    arquivo.write(linha_processada + '\\n')\n",
    "                    \n",
    "    print(\"Processamento concluído: foram mantidos apenas os dados de detecção.\")"
   ]
  },
  {
   "cell_type": "code",
   "execution_count": null,
   "metadata": {},
   "outputs": [],
   "source": [
    "# Caminho para a pasta com as imagens e labels\n",
    "images_folder = r\"C:\\YOLO\\images\"\n",
    "labels_folder = r\"C:\\YOLO\\labels\""
   ]
  },
  {
   "cell_type": "code",
   "execution_count": null,
   "metadata": {},
   "outputs": [],
   "source": [
    "delete_unmatched_labels(images_folder, labels_folder)"
   ]
  },
  {
   "cell_type": "code",
   "execution_count": null,
   "metadata": {},
   "outputs": [],
   "source": [
    "modify_and_check_labels(labels_folder)"
   ]
  },
  {
   "cell_type": "code",
   "execution_count": null,
   "metadata": {},
   "outputs": [],
   "source": [
    "rename_images_and_labels(images_folder, labels_folder)"
   ]
  },
  {
   "cell_type": "code",
   "execution_count": null,
   "metadata": {},
   "outputs": [],
   "source": [
    "rename_images(images_folder)"
   ]
  },
  {
   "cell_type": "code",
   "execution_count": null,
   "metadata": {},
   "outputs": [],
   "source": [
    "remover_segmentacao_em_pasta(labels_folder)"
   ]
  }
 ],
 "metadata": {
  "kernelspec": {
   "display_name": "Python 3",
   "language": "python",
   "name": "python3"
  },
  "language_info": {
   "codemirror_mode": {
    "name": "ipython",
    "version": 3
   },
   "file_extension": ".py",
   "mimetype": "text/x-python",
   "name": "python",
   "nbconvert_exporter": "python",
   "pygments_lexer": "ipython3",
   "version": "3.9.0"
  }
 },
 "nbformat": 4,
 "nbformat_minor": 2
}
