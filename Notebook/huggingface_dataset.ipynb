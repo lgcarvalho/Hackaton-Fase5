{
 "cells": [
  {
   "cell_type": "code",
   "execution_count": 14,
   "metadata": {},
   "outputs": [],
   "source": [
    "from datasets import load_dataset\n",
    "import os\n",
    "from PIL import Image"
   ]
  },
  {
   "cell_type": "code",
   "execution_count": null,
   "metadata": {},
   "outputs": [],
   "source": [
    "# Carrega o dataset do Hugging Face\n",
    "ds = load_dataset(\"KIRANKALLA/weaponds\")"
   ]
  },
  {
   "cell_type": "code",
   "execution_count": null,
   "metadata": {},
   "outputs": [],
   "source": [
    "print(ds['train'][0])"
   ]
  },
  {
   "cell_type": "code",
   "execution_count": null,
   "metadata": {},
   "outputs": [],
   "source": [
    "# Cria a pasta de saída\n",
    "output_folder = \"../Imagens/weaponds\"\n",
    "os.makedirs(output_folder, exist_ok=True)"
   ]
  },
  {
   "cell_type": "code",
   "execution_count": null,
   "metadata": {},
   "outputs": [],
   "source": [
    "# Salva as imagens na pasta de saída\n",
    "for split in ds.keys():\n",
    "    split_folder = os.path.join(output_folder, split)\n",
    "    os.makedirs(split_folder, exist_ok=True)\n",
    "\n",
    "    for i, sample in enumerate(ds[split]):\n",
    "        image = sample['text']\n",
    "\n",
    "        if not isinstance(image, Image.Image):\n",
    "            image = Image.open(image)\n",
    "\n",
    "        output_path = os.path.join(split_folder, f\"image_{i}.png\")\n",
    "\n",
    "        image.save(output_path)\n",
    "\n",
    "    print(f\"Imagens da divisão '{split}' foram salvas na pasta '{split_folder}'.\")\n",
    "\n",
    "print(f\"Todas as imagens foram salvas na pasta '{output_folder}'.\")"
   ]
  }
 ],
 "metadata": {
  "kernelspec": {
   "display_name": "Python 3",
   "language": "python",
   "name": "python3"
  },
  "language_info": {
   "codemirror_mode": {
    "name": "ipython",
    "version": 3
   },
   "file_extension": ".py",
   "mimetype": "text/x-python",
   "name": "python",
   "nbconvert_exporter": "python",
   "pygments_lexer": "ipython3",
   "version": "3.9.0"
  }
 },
 "nbformat": 4,
 "nbformat_minor": 2
}
